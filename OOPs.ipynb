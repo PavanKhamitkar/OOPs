{
  "nbformat": 4,
  "nbformat_minor": 0,
  "metadata": {
    "colab": {
      "provenance": []
    },
    "kernelspec": {
      "name": "python3",
      "display_name": "Python 3"
    },
    "language_info": {
      "name": "python"
    }
  },
  "cells": [
    {
      "cell_type": "markdown",
      "source": [
        "1. What is Object-Oriented Programming (OOP)?\n",
        "  - OOP is a programming paradigm based on the concept of objects, which contain data (attributes) and functions (methods).\n",
        "2. What is a class in OOP?\n",
        "  - A class is a blueprint for creating objects. It defines the structure and behavior (methods) shared by all its objects.\n",
        "3. What is an object in OOP?\n",
        "  - An object is an instance of a class. It represents a specific entity with actual values for the class-defined attributes.\n",
        "4. What is the difference between abstraction and encapsulation?\n",
        "  - Abstraction hides complex implementation details and shows only the necessary features.\n",
        "\n",
        "  - Encapsulation wraps data and methods into a single unit (class) and restricts direct access to some components.\n",
        "5. What are dunder methods in Python?\n",
        "  - Dunder (double underscore) methods are special methods like `__init__`, `__str__`, `__len__`, used to define object behavior.\n",
        "6. Explain the concept of inheritance in OOP.\n",
        "  - Inheritance allows a class (child) to inherit attributes and methods from another class (parent), promoting code reuse.\n",
        "7. What is polymorphism in OOP?\n",
        "  - Polymorphism means the same method name can behave differently depending on the object/class calling it.\n",
        "8. How is encapsulation achieved in Python?\n",
        "    - By using private attributes (prefix with `_` or `__`) and getter/setter methods to control access.\n",
        "9. What is a constructor in Python?\n",
        "    - The `__init__` method is the constructor in Python. It's automatically called when a new object is created.\n",
        "10. What are class and static methods in Python?\n",
        "    - Class method (`@classmethod`) takes `cls` as the first argument and can modify class state.\n",
        "\n",
        "    - Static method (`@staticmethod`) takes no default argument and behaves like a regular function inside a class.\n",
        "\n",
        "11. What is method overloading in Python?\n",
        "    - Python doesn't support traditional method overloading. Instead, use default arguments or `*args`/`**kwargs` to simulate it.\n",
        "\n",
        "12. What is method overriding in OOP?\n",
        "  - Subclass provides a new implementation for a method already defined in the parent class.\n",
        "\n",
        "13. What is a property decorator in Python?\n",
        "  - `@property` is used to define getter methods that can be accessed like attributes (without parentheses).\n",
        "\n",
        "14. Why is polymorphism important in OOP?\n",
        "  - It allows flexibility and code reuse, enabling objects of different classes to be used interchangeably through a common interface.\n",
        "\n",
        "15. What is an abstract class in Python?\n",
        "  - Defined using the `abc` module; it cannot be instantiated and requires subclasses to implement abstract methods.\n",
        "\n",
        "16. What are the advantages of OOP?\n",
        "  - Modularity\n",
        "\n",
        "  - Reusability (via inheritance)\n",
        "\n",
        "  - Flexibility (via polymorphism)\n",
        "\n",
        "  - Data hiding (encapsulation)\n",
        "\n",
        "17. What is the difference between a class variable and an instance variable?\n",
        "  - Class variable: Shared by all objects of a class.\n",
        "\n",
        "  - Instance variable: Unique to each object.\n",
        "\n",
        "18. What is multiple inheritance in Python?\n",
        "  - A class inherits from more than one parent class.\n",
        "\n",
        "19. Explain the purpose of ‘`__str__`’ and ‘`__repr__`’ ‘ methods in Python?\n",
        "  - `__str__`: User-friendly string (`print(obj)`).\n",
        "\n",
        "  - `__repr__`: Official string for debugging (`repr(obj)`).\n",
        "\n",
        "20. What is the significance of the ‘`super()`’ function in Python?\n",
        "  - Calls the parent class method, useful in inheritance to extend functionality.\n",
        "\n",
        "21. What is the significance of the `__del__` method in Python?\n",
        "  - Called when an object is about to be destroyed (destructor), used for cleanup.\n",
        "\n",
        "22.  What is the difference between `@staticmethod` and `@classmethod` in Python?\n",
        "  - `@staticmethod`: No access to class/object (`self` or `cls`).\n",
        "\n",
        "  - `@classmethod`: Access to class via `cls`.\n",
        "\n",
        "23.  How does polymorphism work in Python with inheritance?\n",
        "  - Subclasses override parent methods, and the right method is called at runtime based on the object type.\n",
        "\n",
        "24.  What is method chaining in Python OOP?\n",
        "  - Calling multiple methods in a single line by returning `self` from each method.\n",
        "\n",
        "25. What is the purpose of the `__call__` method in Python?\n",
        "  - Makes an object callable like a function, i.e., `obj()`."
      ],
      "metadata": {
        "id": "805y3i3jUlBq"
      }
    },
    {
      "cell_type": "code",
      "source": [
        " # 1. Create a parent class Animal with a method speak() that prints a generic message. Create a child class Dog\n",
        " # that overrides the speak() method to print \"Bark!\".\n",
        "\n",
        " # Parent class\n",
        "class Animal:\n",
        "    def speak(self):\n",
        "        print(\"The animal makes a sound.\")\n",
        "\n",
        "# Child class\n",
        "class Dog(Animal):\n",
        "    def speak(self):\n",
        "        print(\"Bark!\")\n",
        "\n",
        "# Example usage\n",
        "a = Animal()\n",
        "a.speak()   # Output: The animal makes a sound.\n",
        "\n",
        "d = Dog()\n",
        "d.speak()   # Output: Bark!\n"
      ],
      "metadata": {
        "colab": {
          "base_uri": "https://localhost:8080/"
        },
        "id": "TNy6gPrVWQ09",
        "outputId": "91af0696-f331-4cca-ef1d-280ff08cefed"
      },
      "execution_count": 30,
      "outputs": [
        {
          "output_type": "stream",
          "name": "stdout",
          "text": [
            "The animal makes a sound.\n",
            "Bark!\n"
          ]
        }
      ]
    },
    {
      "cell_type": "code",
      "source": [
        "# 2. Write a program to create an abstract class Shape with a method area(). Derive classes Circle and Rectangle\n",
        "# from it and implement the area() method in both.\n",
        "\n",
        "from abc import ABC, abstractmethod\n",
        "import math\n",
        "\n",
        "# Abstract base class\n",
        "class Shape(ABC):\n",
        "    @abstractmethod\n",
        "    def area(self):\n",
        "        pass\n",
        "\n",
        "# Derived class: Circle\n",
        "class Circle(Shape):\n",
        "    def __init__(self, radius):\n",
        "        self.radius = radius\n",
        "\n",
        "    def area(self):\n",
        "        return math.pi * self.radius ** 2\n",
        "\n",
        "# Derived class: Rectangle\n",
        "class Rectangle(Shape):\n",
        "    def __init__(self, width, height):\n",
        "        self.width = width\n",
        "        self.height = height\n",
        "\n",
        "    def area(self):\n",
        "        return self.width * self.height\n",
        "\n",
        "# Example usage\n",
        "c = Circle(5)\n",
        "r = Rectangle(4, 6)\n",
        "\n",
        "print(\"Area of Circle:\", c.area())       # Output: Area of Circle: 78.54...\n",
        "print(\"Area of Rectangle:\", r.area())    # Output: Area of Rectangle: 24\n"
      ],
      "metadata": {
        "colab": {
          "base_uri": "https://localhost:8080/"
        },
        "id": "x9q1LcKudJWg",
        "outputId": "01562db6-7029-47b8-ee86-45afc6684db2"
      },
      "execution_count": 31,
      "outputs": [
        {
          "output_type": "stream",
          "name": "stdout",
          "text": [
            "Area of Circle: 78.53981633974483\n",
            "Area of Rectangle: 24\n"
          ]
        }
      ]
    },
    {
      "cell_type": "code",
      "source": [
        "# 3. Implement a multi-level inheritance scenario where a class Vehicle has an attribute type. Derive a class Car\n",
        "# and further derive a class ElectricCar that adds a battery attribute.\n",
        "\n",
        "# Base class\n",
        "class Vehicle:\n",
        "    def __init__(self, type):\n",
        "        self.type = type\n",
        "\n",
        "    def show_type(self):\n",
        "        print(f\"Vehicle Type: {self.type}\")\n",
        "\n",
        "# Derived class\n",
        "class Car(Vehicle):\n",
        "    def __init__(self, type, brand):\n",
        "        super().__init__(type)\n",
        "        self.brand = brand\n",
        "\n",
        "    def show_brand(self):\n",
        "        print(f\"Car Brand: {self.brand}\")\n",
        "\n",
        "# Further derived class\n",
        "class ElectricCar(Car):\n",
        "    def __init__(self, type, brand, battery):\n",
        "        super().__init__(type, brand)\n",
        "        self.battery = battery\n",
        "\n",
        "    def show_battery(self):\n",
        "        print(f\"Battery Capacity: {self.battery} kWh\")\n",
        "\n",
        "# Example usage\n",
        "e_car = ElectricCar(\"Four Wheeler\", \"Tesla\", 75)\n",
        "e_car.show_type()      # Output: Vehicle Type: Four Wheeler\n",
        "e_car.show_brand()     # Output: Car Brand: Tesla\n",
        "e_car.show_battery()   # Output: Battery Capacity: 75 kWh\n"
      ],
      "metadata": {
        "colab": {
          "base_uri": "https://localhost:8080/"
        },
        "id": "ecwOmhYIdtKa",
        "outputId": "2cbf5a9b-4aa9-4d11-9a0d-b84e695fd6cf"
      },
      "execution_count": 32,
      "outputs": [
        {
          "output_type": "stream",
          "name": "stdout",
          "text": [
            "Vehicle Type: Four Wheeler\n",
            "Car Brand: Tesla\n",
            "Battery Capacity: 75 kWh\n"
          ]
        }
      ]
    },
    {
      "cell_type": "code",
      "source": [
        "# 4. Demonstrate polymorphism by creating a base class Bird with a method fly(). Create two derived classes\n",
        "# Sparrow and Penguin that override the fly() method.\n",
        "\n",
        "# Base class\n",
        "class Bird:\n",
        "    def fly(self):\n",
        "        print(\"Some birds can fly.\")\n",
        "\n",
        "# Derived class: Sparrow\n",
        "class Sparrow(Bird):\n",
        "    def fly(self):\n",
        "        print(\"Sparrow flies high in the sky.\")\n",
        "\n",
        "# Derived class: Penguin\n",
        "class Penguin(Bird):\n",
        "    def fly(self):\n",
        "        print(\"Penguins cannot fly, they swim.\")\n",
        "\n",
        "# Polymorphism in action\n",
        "def bird_flight(bird):\n",
        "    bird.fly()\n",
        "\n",
        "# Example usage\n",
        "b1 = Sparrow()\n",
        "b2 = Penguin()\n",
        "\n",
        "bird_flight(b1)  # Output: Sparrow flies high in the sky.\n",
        "bird_flight(b2)  # Output: Penguins cannot fly, they swim.\n",
        "\n"
      ],
      "metadata": {
        "colab": {
          "base_uri": "https://localhost:8080/"
        },
        "id": "aHkhzDWTelLs",
        "outputId": "b7188fb1-972e-4b7a-be3c-48864043b0bd"
      },
      "execution_count": 33,
      "outputs": [
        {
          "output_type": "stream",
          "name": "stdout",
          "text": [
            "Sparrow flies high in the sky.\n",
            "Penguins cannot fly, they swim.\n"
          ]
        }
      ]
    },
    {
      "cell_type": "code",
      "source": [
        "# 5. Write a program to demonstrate encapsulation by creating a class BankAccount with private attributes\n",
        "# balance and methods to deposit, withdraw, and check balance.\n",
        "\n",
        "class BankAccount:\n",
        "    def __init__(self, initial_balance=0):\n",
        "        self.__balance = initial_balance  # Private attribute\n",
        "\n",
        "    def deposit(self, amount):\n",
        "        if amount > 0:\n",
        "            self.__balance += amount\n",
        "            print(f\"Deposited: {amount}\")\n",
        "        else:\n",
        "            print(\"Invalid deposit amount.\")\n",
        "\n",
        "    def withdraw(self, amount):\n",
        "        if 0 < amount <= self.__balance:\n",
        "            self.__balance -= amount\n",
        "            print(f\"Withdrawn: {amount}\")\n",
        "        else:\n",
        "            print(\"Insufficient balance or invalid amount.\")\n",
        "\n",
        "    def check_balance(self):\n",
        "        print(f\"Current Balance: {self.__balance}\")\n",
        "\n",
        "# Example usage\n",
        "acc = BankAccount(1000)\n",
        "acc.check_balance()     # Output: Current Balance: 1000\n",
        "acc.deposit(500)        # Output: Deposited: 500\n",
        "acc.withdraw(300)       # Output: Withdrawn: 300\n",
        "acc.check_balance()     # Output: Current Balance: 1200\n",
        "\n",
        "# Trying to access private attribute directly (won't work)\n",
        "# print(acc.__balance)  # This will raise an AttributeError\n"
      ],
      "metadata": {
        "colab": {
          "base_uri": "https://localhost:8080/"
        },
        "id": "I98nZUzsfGv2",
        "outputId": "c353351d-4404-4608-ffdb-ee418ebd3fc3"
      },
      "execution_count": 34,
      "outputs": [
        {
          "output_type": "stream",
          "name": "stdout",
          "text": [
            "Current Balance: 1000\n",
            "Deposited: 500\n",
            "Withdrawn: 300\n",
            "Current Balance: 1200\n"
          ]
        }
      ]
    },
    {
      "cell_type": "code",
      "source": [
        "# 6. Demonstrate runtime polymorphism using a method play() in a base class Instrument. Derive classes Guitar\n",
        "# and Piano that implement their own version of play().\n",
        "\n",
        "# Base class\n",
        "class Instrument:\n",
        "    def play(self):\n",
        "        print(\"Playing an instrument...\")\n",
        "\n",
        "# Derived class: Guitar\n",
        "class Guitar(Instrument):\n",
        "    def play(self):\n",
        "        print(\"Strumming the guitar.\")\n",
        "\n",
        "# Derived class: Piano\n",
        "class Piano(Instrument):\n",
        "    def play(self):\n",
        "        print(\"Playing the piano.\")\n",
        "\n",
        "# Polymorphism in action\n",
        "def perform_music(instrument):\n",
        "    instrument.play()\n",
        "\n",
        "# Example usage\n",
        "g = Guitar()\n",
        "p = Piano()\n",
        "\n",
        "perform_music(g)  # Output: Strumming the guitar.\n",
        "perform_music(p)  # Output: Playing the piano.\n"
      ],
      "metadata": {
        "colab": {
          "base_uri": "https://localhost:8080/"
        },
        "id": "WdnGguIifbZA",
        "outputId": "80e0d1d0-9d8e-43ee-fc59-f08a3b8feb39"
      },
      "execution_count": 35,
      "outputs": [
        {
          "output_type": "stream",
          "name": "stdout",
          "text": [
            "Strumming the guitar.\n",
            "Playing the piano.\n"
          ]
        }
      ]
    },
    {
      "cell_type": "code",
      "source": [
        "# 7. Create a class MathOperations with a class method add_numbers() to add two numbers and a static\n",
        "# method subtract_numbers() to subtract two numbers.\n",
        "\n",
        "class MathOperations:\n",
        "\n",
        "    @classmethod\n",
        "    def add_numbers(cls, a, b):\n",
        "        return a + b\n",
        "\n",
        "    @staticmethod\n",
        "    def subtract_numbers(a, b):\n",
        "        return a - b\n",
        "\n",
        "# Example usage\n",
        "print(\"Addition:\", MathOperations.add_numbers(10, 5))       # Output: 15\n",
        "print(\"Subtraction:\", MathOperations.subtract_numbers(10, 5))  # Output: 5\n"
      ],
      "metadata": {
        "colab": {
          "base_uri": "https://localhost:8080/"
        },
        "id": "bEVVg19OfrL4",
        "outputId": "94c9a944-6f80-408b-a8dd-067c2d468d9a"
      },
      "execution_count": 36,
      "outputs": [
        {
          "output_type": "stream",
          "name": "stdout",
          "text": [
            "Addition: 15\n",
            "Subtraction: 5\n"
          ]
        }
      ]
    },
    {
      "cell_type": "code",
      "source": [
        "# 8. Implement a class Person with a class method to count the total number of persons created.\n",
        "\n",
        "class Person:\n",
        "    count = 0  # Class variable to keep track of number of persons\n",
        "\n",
        "    def __init__(self, name):\n",
        "        self.name = name\n",
        "        Person.count += 1\n",
        "\n",
        "    @classmethod\n",
        "    def total_persons(cls):\n",
        "        return cls.count\n",
        "\n",
        "# Example usage\n",
        "p1 = Person(\"Alice\")\n",
        "p2 = Person(\"Bob\")\n",
        "p3 = Person(\"Charlie\")\n",
        "\n",
        "print(\"Total persons created:\", Person.total_persons())  # Output: 3"
      ],
      "metadata": {
        "colab": {
          "base_uri": "https://localhost:8080/"
        },
        "id": "3Clu8ueWf5ia",
        "outputId": "fe2673d0-ddfc-4d84-89bf-beb25fc06044"
      },
      "execution_count": 37,
      "outputs": [
        {
          "output_type": "stream",
          "name": "stdout",
          "text": [
            "Total persons created: 3\n"
          ]
        }
      ]
    },
    {
      "cell_type": "code",
      "source": [
        "# 9. Write a class Fraction with attributes numerator and denominator. Override the str method to display the\n",
        "# fraction as \"numerator/denominator\".\n",
        "\n",
        "class Fraction:\n",
        "    def __init__(self, numerator, denominator):\n",
        "        self.numerator = numerator\n",
        "        self.denominator = denominator\n",
        "\n",
        "    def __str__(self):\n",
        "        return f\"{self.numerator}/{self.denominator}\"\n",
        "\n",
        "# Example usage\n",
        "f = Fraction(3, 4)\n",
        "print(f)  # Output: 3/4\n"
      ],
      "metadata": {
        "colab": {
          "base_uri": "https://localhost:8080/"
        },
        "id": "KApckaufgDsZ",
        "outputId": "a0fb40c0-05b8-41b9-dd6f-bafa9f4324f5"
      },
      "execution_count": 38,
      "outputs": [
        {
          "output_type": "stream",
          "name": "stdout",
          "text": [
            "3/4\n"
          ]
        }
      ]
    },
    {
      "cell_type": "code",
      "source": [
        "# 10. Demonstrate operator overloading by creating a class Vector and overriding the add method to add two\n",
        "# vectors.\n",
        "\n",
        "class Vector:\n",
        "    def __init__(self, x, y):\n",
        "        self.x = x\n",
        "        self.y = y\n",
        "\n",
        "    def __add__(self, other):\n",
        "        return Vector(self.x + other.x, self.y + other.y)\n",
        "\n",
        "    def __str__(self):\n",
        "        return f\"({self.x}, {self.y})\"\n",
        "\n",
        "# Example usage\n",
        "v1 = Vector(2, 3)\n",
        "v2 = Vector(4, 5)\n",
        "v3 = v1 + v2\n",
        "\n",
        "print(v3)  # Output: (6, 8)\n"
      ],
      "metadata": {
        "colab": {
          "base_uri": "https://localhost:8080/"
        },
        "id": "eSazqUQYgOrj",
        "outputId": "11e38d02-8bcb-4365-badf-1a42368a9cf1"
      },
      "execution_count": 39,
      "outputs": [
        {
          "output_type": "stream",
          "name": "stdout",
          "text": [
            "(6, 8)\n"
          ]
        }
      ]
    },
    {
      "cell_type": "code",
      "source": [
        "# 11. Create a class Person with attributes name and age. Add a method greet() that prints \"Hello, my name is\n",
        "# {name} and I am {age} years old.\"\n",
        "\n",
        "class Person:\n",
        "    def __init__(self, name, age):\n",
        "        self.name = name\n",
        "        self.age = age\n",
        "\n",
        "    def greet(self):\n",
        "        print(f\"Hello, my name is {self.name} and I am {self.age} years old.\")\n",
        "\n",
        "# Example usage\n",
        "p = Person(\"Alice\", 30)\n",
        "p.greet()  # Output: Hello, my name is Alice and I am 30 years old."
      ],
      "metadata": {
        "colab": {
          "base_uri": "https://localhost:8080/"
        },
        "id": "wyWGFYkGgXdL",
        "outputId": "97f1d902-1e8f-4108-a8fc-07c7e9536c7e"
      },
      "execution_count": 40,
      "outputs": [
        {
          "output_type": "stream",
          "name": "stdout",
          "text": [
            "Hello, my name is Alice and I am 30 years old.\n"
          ]
        }
      ]
    },
    {
      "cell_type": "code",
      "source": [
        "# 12. Implement a class Student with attributes name and grades. Create a method average_grade() to compute\n",
        "# the average of the grades.\n",
        "\n",
        "class Student:\n",
        "    def __init__(self, name, grades):\n",
        "        self.name = name\n",
        "        self.grades = grades  # grades should be a list of numbers\n",
        "\n",
        "    def average_grade(self):\n",
        "        if not self.grades:\n",
        "            return 0\n",
        "        return sum(self.grades) / len(self.grades)\n",
        "\n",
        "# Example usage\n",
        "s = Student(\"John\", [85, 90, 78, 92])\n",
        "print(f\"{s.name}'s average grade: {s.average_grade()}\")  # Output: John's average grade: 86.25\n"
      ],
      "metadata": {
        "colab": {
          "base_uri": "https://localhost:8080/"
        },
        "id": "zMnL1ce7ghCl",
        "outputId": "1c2294c6-a2e0-4bb7-d998-652ab22cb762"
      },
      "execution_count": 41,
      "outputs": [
        {
          "output_type": "stream",
          "name": "stdout",
          "text": [
            "John's average grade: 86.25\n"
          ]
        }
      ]
    },
    {
      "cell_type": "code",
      "source": [
        "# 13. Create a class Rectangle with methods set_dimensions() to set the dimensions and area() to calculate the\n",
        "# area.\n",
        "\n",
        "class Rectangle:\n",
        "    def __init__(self):\n",
        "        self.length = 0\n",
        "        self.width = 0\n",
        "\n",
        "    def set_dimensions(self, length, width):\n",
        "        self.length = length\n",
        "        self.width = width\n",
        "\n",
        "    def area(self):\n",
        "        return self.length * self.width\n",
        "\n",
        "# Example usage\n",
        "rect = Rectangle()\n",
        "rect.set_dimensions(5, 3)\n",
        "print(\"Area of rectangle:\", rect.area())  # Output: Area of rectangle: 15\n"
      ],
      "metadata": {
        "colab": {
          "base_uri": "https://localhost:8080/"
        },
        "id": "JvM8IaMcgqC9",
        "outputId": "ea08968b-b2b7-436f-f2d3-27225c4b750c"
      },
      "execution_count": 42,
      "outputs": [
        {
          "output_type": "stream",
          "name": "stdout",
          "text": [
            "Area of rectangle: 15\n"
          ]
        }
      ]
    },
    {
      "cell_type": "code",
      "source": [
        "# 14. Create a class Employee with a method calculate_salary() that computes the salary based on hours worked\n",
        "# and hourly rate. Create a derived class Manager that adds a bonus to the salary.\n",
        "\n",
        "class Employee:\n",
        "    def __init__(self, name, hours_worked, hourly_rate):\n",
        "        self.name = name\n",
        "        self.hours_worked = hours_worked\n",
        "        self.hourly_rate = hourly_rate\n",
        "\n",
        "    def calculate_salary(self):\n",
        "        return self.hours_worked * self.hourly_rate\n",
        "\n",
        "class Manager(Employee):\n",
        "    def __init__(self, name, hours_worked, hourly_rate, bonus):\n",
        "        super().__init__(name, hours_worked, hourly_rate)\n",
        "        self.bonus = bonus\n",
        "\n",
        "    def calculate_salary(self):\n",
        "        base_salary = super().calculate_salary()\n",
        "        return base_salary + self.bonus\n",
        "\n",
        "# Example usage\n",
        "emp = Employee(\"Alice\", 40, 20)\n",
        "mgr = Manager(\"Bob\", 40, 25, 500)\n",
        "\n",
        "print(f\"{emp.name}'s Salary: ${emp.calculate_salary()}\")  # Output: Alice's Salary: $800\n",
        "print(f\"{mgr.name}'s Salary: ${mgr.calculate_salary()}\")  # Output: Bob's Salary: $1500\n"
      ],
      "metadata": {
        "colab": {
          "base_uri": "https://localhost:8080/"
        },
        "id": "33usETNLg17n",
        "outputId": "35e1a840-9356-42bb-833f-a23d40d4e9c9"
      },
      "execution_count": 43,
      "outputs": [
        {
          "output_type": "stream",
          "name": "stdout",
          "text": [
            "Alice's Salary: $800\n",
            "Bob's Salary: $1500\n"
          ]
        }
      ]
    },
    {
      "cell_type": "code",
      "source": [
        "# 15. Create a class Product with attributes name, price, and quantity. Implement a method total_price() that\n",
        "# calculates the total price of the product.\n",
        "\n",
        "class Product:\n",
        "    def __init__(self, name, price, quantity):\n",
        "        self.name = name\n",
        "        self.price = price\n",
        "        self.quantity = quantity\n",
        "\n",
        "    def total_price(self):\n",
        "        return self.price * self.quantity\n",
        "\n",
        "# Example usage\n",
        "p = Product(\"Laptop\", 50000, 2)\n",
        "print(f\"Total price for {p.name}: ₹{p.total_price()}\")  # Output: Total price for Laptop: ₹100000\n"
      ],
      "metadata": {
        "colab": {
          "base_uri": "https://localhost:8080/"
        },
        "id": "iCBU98lYhOYq",
        "outputId": "5999b7a1-cd2a-4657-d5a5-d2a9d2046f76"
      },
      "execution_count": 44,
      "outputs": [
        {
          "output_type": "stream",
          "name": "stdout",
          "text": [
            "Total price for Laptop: ₹100000\n"
          ]
        }
      ]
    },
    {
      "cell_type": "code",
      "source": [
        "# 16. Create a class Animal with an abstract method sound(). Create two derived classes Cow and Sheep that\n",
        "# implement the sound() method.\n",
        "\n",
        "from abc import ABC, abstractmethod\n",
        "\n",
        "class Animal(ABC):\n",
        "    @abstractmethod\n",
        "    def sound(self):\n",
        "        pass\n",
        "\n",
        "class Cow(Animal):\n",
        "    def sound(self):\n",
        "        return \"Moo\"\n",
        "\n",
        "class Sheep(Animal):\n",
        "    def sound(self):\n",
        "        return \"Baa\"\n",
        "\n",
        "# Example usage\n",
        "c = Cow()\n",
        "s = Sheep()\n",
        "\n",
        "print(\"Cow sound:\", c.sound())    # Output: Moo\n",
        "print(\"Sheep sound:\", s.sound())  # Output: Baa"
      ],
      "metadata": {
        "colab": {
          "base_uri": "https://localhost:8080/"
        },
        "id": "1kztyaf4ilJz",
        "outputId": "de301e0f-5919-4a2a-82bb-5e82e6beeee0"
      },
      "execution_count": 45,
      "outputs": [
        {
          "output_type": "stream",
          "name": "stdout",
          "text": [
            "Cow sound: Moo\n",
            "Sheep sound: Baa\n"
          ]
        }
      ]
    },
    {
      "cell_type": "code",
      "source": [
        "# 17. Create a class Book with attributes title, author, and year_published. Add a method get_book_info() that\n",
        "# returns a formatted string with the book's details.\n",
        "\n",
        "class Book:\n",
        "    def __init__(self, title, author, year_published):\n",
        "        self.title = title\n",
        "        self.author = author\n",
        "        self.year_published = year_published\n",
        "\n",
        "    def get_book_info(self):\n",
        "        return f\"'{self.title}' by {self.author} (Published in {self.year_published})\"\n",
        "\n",
        "# Example usage\n",
        "book = Book(\"To Kill a Mockingbird\", \"Harper Lee\", 1960)\n",
        "print(book.get_book_info())  # Output: 'To Kill a Mockingbird' by Harper Lee (Published in 1960)\n"
      ],
      "metadata": {
        "colab": {
          "base_uri": "https://localhost:8080/"
        },
        "id": "0vxGOyJlirg2",
        "outputId": "52084862-e88f-4e32-dd35-e17fa2a60172"
      },
      "execution_count": 46,
      "outputs": [
        {
          "output_type": "stream",
          "name": "stdout",
          "text": [
            "'To Kill a Mockingbird' by Harper Lee (Published in 1960)\n"
          ]
        }
      ]
    },
    {
      "cell_type": "code",
      "source": [
        "# 18. Create a class House with attributes address and price. Create a derived class Mansion that adds an\n",
        "# attribute number_of_rooms.\n",
        "\n",
        "class House:\n",
        "    def __init__(self, address, price):\n",
        "        self.address = address\n",
        "        self.price = price\n",
        "\n",
        "    def get_info(self):\n",
        "        return f\"House at {self.address}, priced at ₹{self.price}\"\n",
        "\n",
        "class Mansion(House):\n",
        "    def __init__(self, address, price, number_of_rooms):\n",
        "        super().__init__(address, price)\n",
        "        self.number_of_rooms = number_of_rooms\n",
        "\n",
        "    def get_info(self):\n",
        "        return f\"Mansion at {self.address}, ₹{self.price}, with {self.number_of_rooms} rooms\"\n",
        "\n",
        "# Example usage\n",
        "m = Mansion(\"123 Elite Street\", 50000000, 10)\n",
        "print(m.get_info())  # Output: Mansion at 123 Elite Street, ₹50000000, with 10 rooms\n"
      ],
      "metadata": {
        "colab": {
          "base_uri": "https://localhost:8080/"
        },
        "id": "a1brjs1RjIRl",
        "outputId": "3c62e69e-0e5f-450e-b191-f9f2adab422b"
      },
      "execution_count": 47,
      "outputs": [
        {
          "output_type": "stream",
          "name": "stdout",
          "text": [
            "Mansion at 123 Elite Street, ₹50000000, with 10 rooms\n"
          ]
        }
      ]
    },
    {
      "cell_type": "code",
      "source": [],
      "metadata": {
        "id": "B7fpQ7sBjULd"
      },
      "execution_count": 47,
      "outputs": []
    }
  ]
}